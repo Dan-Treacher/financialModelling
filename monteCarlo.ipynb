{
 "cells": [
  {
   "cell_type": "markdown",
   "metadata": {},
   "source": [
    "## Maximizing the speed of python in a monte carlo algorithm"
   ]
  },
  {
   "cell_type": "markdown",
   "metadata": {},
   "source": [
    "Monte carlo methods are super important in finance - However, they're somewhat compuationally intensive which has historically led to the dismissal of python as a viable language with which to run these simulations.\n",
    "\n",
    "Using the geometric brownian motion approach for the evolution of stock prices, you need to consider the stochastic differetial equation (SDE) $\\dfrac{dS_t}{S_t}=r dt + \\sigma dZ_t$ where their $r$ and $dZ$ are what I'd call $\\mu$ and $dB$ (brownian motion term) (c.f. the derivations you've learnt surrounding the BSM model)\n",
    "\n",
    "This SDE can be discretised over equidistant time intervals and simulated according to the solution $S_t=S_{t-\\Delta t}\\mathrm{exp}\\left[(r-\\frac{\\sigma^2}{2}\\Delta t)+\\sigma Z\\sqrt{\\Delta t}\\right]$, where $\\Delta t=\\frac{T}{M}$ for $M$ time intervals during the length of time $T$ until the simulation conclusion, and $Z\\sim N(0,1)$\n",
    "\n",
    "The monte carlo estimator for the european call option is $C_0=\\mathrm{e}^{-rT}\\frac{1}{I}\\Sigma_I \\mathrm{max}(S_T (i)-K, 0)$, where $S_T(i)$ is the $i^\\mathrm{th}$ simulated value of the underlying at maturity $T$ for a total number of simulated paths $I$ with $i=(1,2,...,I)$"
   ]
  },
  {
   "cell_type": "markdown",
   "metadata": {},
   "source": [
    "## Python implementation"
   ]
  },
  {
   "cell_type": "code",
   "execution_count": 44,
   "metadata": {},
   "outputs": [],
   "source": [
    "import numpy as np\n",
    "import math\n",
    "M = 100  # Number of time increments\n",
    "I = 50000  # Number of simulated paths\n",
    "T = 1.0  # Time horizon for the simulation\n",
    "S0 = 36  # Initial stock price\n",
    "r = 0.06  # Risk free rate\n",
    "sigma = 0.2  # Volatility\n",
    "\n",
    "def mcs_simulation_py(p):\n",
    "    M, I = p\n",
    "    dt = T / M\n",
    "    S = np.zeros((M+1, I))\n",
    "    S[0] = S0\n",
    "    rn = np.random.standard_normal(S.shape)  # This is vectorised and nice and fast\n",
    "    for t in range(1, M+1):\n",
    "        for i in range(I):\n",
    "            S[t, i] = S[t-1, i]*math.exp(((r- (sigma**2)/2)*dt) + sigma*math.sqrt(dt)*rn[t, i])\n",
    "    return S"
   ]
  },
  {
   "cell_type": "code",
   "execution_count": 13,
   "metadata": {},
   "outputs": [
    {
     "name": "stdout",
     "output_type": "stream",
     "text": [
      "Wall time: 7.84 s\n"
     ]
    }
   ],
   "source": [
    "%time S = mcs_simulation_py((M, I))"
   ]
  },
  {
   "cell_type": "code",
   "execution_count": 22,
   "metadata": {},
   "outputs": [
    {
     "name": "stdout",
     "output_type": "stream",
     "text": [
      "38.24400389947746\n",
      "38.22611567563295\n"
     ]
    }
   ],
   "source": [
    "print(S[-1].mean()) # Mean end of simulation value for the option\n",
    "print(S0*math.exp(r*T))  # Theoretically expected end value for the option"
   ]
  },
  {
   "cell_type": "code",
   "execution_count": 17,
   "metadata": {},
   "outputs": [
    {
     "data": {
      "text/plain": [
       "3.84534636562789"
      ]
     },
     "execution_count": 17,
     "metadata": {},
     "output_type": "execute_result"
    }
   ],
   "source": [
    "K = 40  # Strike price\n",
    "C0 = math.exp(-r*T)*np.maximum(K - S[-1], 0).mean()  # Monte carlo estimator for the option (factor of 1/I accounted with .mean)\n",
    "C0"
   ]
  },
  {
   "cell_type": "code",
   "execution_count": 27,
   "metadata": {},
   "outputs": [
    {
     "data": {
      "image/png": "[encoded data removed]",
      "text/plain": [
       "<Figure size 432x288 with 1 Axes>"
      ]
     },
     "metadata": {
      "needs_background": "light"
     },
     "output_type": "display_data"
    }
   ],
   "source": [
    "import matplotlib.pyplot as plt\n",
    "plt.hist(S[-1], bins=40)\n",
    "plt.show()\n",
    "# Frequency distribution of the simulated end of period values"
   ]
  },
  {
   "cell_type": "markdown",
   "metadata": {},
   "source": [
    "## Numpy version of the above"
   ]
  },
  {
   "cell_type": "code",
   "execution_count": 41,
   "metadata": {},
   "outputs": [
    {
     "name": "stdout",
     "output_type": "stream",
     "text": [
      "Once deleted, variables cannot be recovered. Proceed (y/[n])? y\n"
     ]
    }
   ],
   "source": [
    "import numpy as np\n",
    "import math\n",
    "M = 100  # Number of time increments\n",
    "I = 50000  # Number of simulated paths\n",
    "T = 1.0  # Time horizon for the simulation\n",
    "S0 = 36  # Initial stock price\n",
    "r = 0.06  # Risk free rate\n",
    "sigma = 0.2  # Volatility\n",
    "\n",
    "def mcs_simulation_np(p):\n",
    "    M, I = p\n",
    "    dt = T / M\n",
    "    S = np.zeros((M + 1, I))\n",
    "    S[0] = S0\n",
    "    rn = np.random.standard_normal(S.shape)\n",
    "    for t in range(1, M + 1):\n",
    "        S[t] = S[t-1] * np.exp((r - sigma ** 2 / 2) * dt + sigma * math.sqrt(dt) * rn[t])\n",
    "    return S"
   ]
  },
  {
   "cell_type": "code",
   "execution_count": 42,
   "metadata": {},
   "outputs": [
    {
     "name": "stdout",
     "output_type": "stream",
     "text": [
      "Wall time: 260 ms\n"
     ]
    }
   ],
   "source": [
    "if 'S' in locals():\n",
    "    del S\n",
    "\n",
    "%time S = mcs_simulation_np((M, I))"
   ]
  },
  {
   "cell_type": "markdown",
   "metadata": {},
   "source": [
    "## Numba version"
   ]
  },
  {
   "cell_type": "code",
   "execution_count": 49,
   "metadata": {},
   "outputs": [
    {
     "name": "stdout",
     "output_type": "stream",
     "text": [
      "282 ms ± 10.7 ms per loop (mean ± std. dev. of 7 runs, 1 loop each)\n"
     ]
    }
   ],
   "source": [
    "import numba as nb\n",
    "\n",
    "mcs_simulation_nb = nb.jit(mcs_simulation_py)\n",
    "%timeit S = mcs_simulation_nb((M, I))  # After a few calls, this is pretty quick too."
   ]
  },
  {
   "cell_type": "markdown",
   "metadata": {},
   "source": [
    "## Multiprocessing\n",
    "We can parallelise the calculation of 100,000 paths into 10 computations of 10,000 paths each"
   ]
  }
 ],
 "metadata": {
  "kernelspec": {
   "display_name": "Python 3",
   "language": "python",
   "name": "python3"
  },
  "language_info": {
   "codemirror_mode": {
    "name": "ipython",
    "version": 3
   },
   "file_extension": ".py",
   "mimetype": "text/x-python",
   "name": "python",
   "nbconvert_exporter": "python",
   "pygments_lexer": "ipython3",
   "version": "3.7.3"
  }
 },
 "nbformat": 4,
 "nbformat_minor": 4
}
